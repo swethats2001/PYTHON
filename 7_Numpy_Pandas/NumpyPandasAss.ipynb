{
 "cells": [
  {
   "cell_type": "code",
   "execution_count": 3,
   "id": "37b23172-c1d5-44d6-a551-3531803c587b",
   "metadata": {},
   "outputs": [],
   "source": [
    "import numpy as np\n",
    "import pandas as pd"
   ]
  },
  {
   "cell_type": "markdown",
   "id": "bddd0c52-15aa-4e02-af52-3b5c86401ea6",
   "metadata": {},
   "source": [
    "# Exercise 1: (Score : 1) Create a numpy array containing the numbers from 1 to 10, and then reshape it to a 2x5 matrix."
   ]
  },
  {
   "cell_type": "code",
   "execution_count": 5,
   "id": "40ca234d-bedd-4474-bd03-ce055bab4284",
   "metadata": {},
   "outputs": [
    {
     "name": "stdout",
     "output_type": "stream",
     "text": [
      "[ 1  2  3  4  5  6  7  8  9 10]\n",
      "(10,)\n"
     ]
    }
   ],
   "source": [
    "arr1=np.array([1,2,3,4,5,6,7,8,9,10])\n",
    "print(arr1)\n",
    "print(arr1.shape)"
   ]
  },
  {
   "cell_type": "code",
   "execution_count": 6,
   "id": "583221c5-3b34-4781-b815-505a3760c995",
   "metadata": {},
   "outputs": [],
   "source": [
    "arr2=arr1.copy()"
   ]
  },
  {
   "cell_type": "code",
   "execution_count": 7,
   "id": "90423f12-3502-4922-9570-c8eb0eb30a98",
   "metadata": {},
   "outputs": [
    {
     "data": {
      "text/plain": [
       "array([ 1,  2,  3,  4,  5,  6,  7,  8,  9, 10])"
      ]
     },
     "execution_count": 7,
     "metadata": {},
     "output_type": "execute_result"
    }
   ],
   "source": [
    "arr2"
   ]
  },
  {
   "cell_type": "code",
   "execution_count": 8,
   "id": "ac6ef467-3f75-48c6-9077-a8725f5a5f19",
   "metadata": {},
   "outputs": [
    {
     "name": "stdout",
     "output_type": "stream",
     "text": [
      "[[[ 1  2  3  4  5]]\n",
      "\n",
      " [[ 6  7  8  9 10]]]\n"
     ]
    }
   ],
   "source": [
    "newarr2=arr2.reshape(2,1,5)\n",
    "print(newarr2)\n",
    "#print(arr2)"
   ]
  },
  {
   "cell_type": "markdown",
   "id": "70007c23-1f56-4b3d-a673-ef24c3f0ebb5",
   "metadata": {},
   "source": [
    "# Exercise 2: (Score : 1) Create a numpy array containing the numbers from 1 to 20, and then extract the elements between the 5th and 15th index."
   ]
  },
  {
   "cell_type": "code",
   "execution_count": 10,
   "id": "4ac471e5-3389-4207-92e3-d6eb65fa455c",
   "metadata": {},
   "outputs": [
    {
     "data": {
      "text/plain": [
       "array([ 4, 10,  7, 16, 11,  6,  8, 16,  3, 15, 15, 10, 10, 16, 12, 14, 17,\n",
       "       11,  4,  4])"
      ]
     },
     "execution_count": 10,
     "metadata": {},
     "output_type": "execute_result"
    }
   ],
   "source": [
    "arr3=np.random.randint(1,20,size=20)\n",
    "arr3"
   ]
  },
  {
   "cell_type": "code",
   "execution_count": 11,
   "id": "6c11b06c-69a7-40b7-9b97-c37a302db518",
   "metadata": {},
   "outputs": [
    {
     "name": "stdout",
     "output_type": "stream",
     "text": [
      "[ 6  8 16  3 15 15 10 10 16 12 14]\n"
     ]
    }
   ],
   "source": [
    "print(arr3[5:16])"
   ]
  },
  {
   "cell_type": "markdown",
   "id": "b8a2e680-c37f-4a6c-b91a-4dacebb10b81",
   "metadata": {},
   "source": [
    "# Exercise 3: (Score : 2) Create a Pandas series with the following data: {'apples': 3, 'bananas': 2, 'oranges': 1}. Then, add a new item to the series with the key 'pears' and the value 4."
   ]
  },
  {
   "cell_type": "code",
   "execution_count": 13,
   "id": "43bde8a5-8ee2-43b2-9fc7-e460d773f7b2",
   "metadata": {},
   "outputs": [
    {
     "name": "stdout",
     "output_type": "stream",
     "text": [
      "apples     3\n",
      "bananas    2\n",
      "oranges    1\n",
      "dtype: int64\n"
     ]
    }
   ],
   "source": [
    "data1={'apples': 3, 'bananas': 2, 'oranges': 1}\n",
    "df=pd.Series(data1)\n",
    "print(df)"
   ]
  },
  {
   "cell_type": "code",
   "execution_count": 14,
   "id": "c6fcb2fa-27b1-49f8-af87-a5b297bf9292",
   "metadata": {},
   "outputs": [
    {
     "name": "stdout",
     "output_type": "stream",
     "text": [
      "apples     3\n",
      "bananas    2\n",
      "oranges    1\n",
      "pears      4\n",
      "dtype: int64\n"
     ]
    }
   ],
   "source": [
    "df[\"pears\"]=4\n",
    "print(df)"
   ]
  },
  {
   "cell_type": "markdown",
   "id": "f9816be6-dd23-4b99-b5fe-abda5bffb40b",
   "metadata": {},
   "source": [
    "# Exercise 4: (Score : 2) Create a dataframe with the following columns: name, age, and gender. The dataframe should have 10 rows of data. "
   ]
  },
  {
   "cell_type": "code",
   "execution_count": 16,
   "id": "b448805e-ecec-4842-8b04-b9ff46cabe84",
   "metadata": {},
   "outputs": [
    {
     "name": "stdout",
     "output_type": "stream",
     "text": [
      "      Name  Age  Gender\n",
      "0    Alice   25  Female\n",
      "1      Bob   30    Male\n",
      "2  Charlie   22    Male\n",
      "3    David   35    Male\n",
      "4     Ella   28  Female\n",
      "5    Frank   40    Male\n",
      "6    Grace   23  Female\n",
      "7   Hannah   27  Female\n",
      "8      Ian   31    Male\n",
      "9    Julia   29  Female\n"
     ]
    }
   ],
   "source": [
    "data2={\"Name\":['Alice', 'Bob', 'Charlie', 'David', 'Ella', 'Frank', 'Grace', 'Hannah', 'Ian', 'Julia'],\n",
    "      \"Age\":[25, 30, 22, 35, 28, 40, 23, 27, 31, 29],\n",
    "      \"Gender\":['Female', 'Male', 'Male', 'Male', 'Female', 'Male', 'Female', 'Female', 'Male', 'Female']}\n",
    "df2=pd.DataFrame(data2)\n",
    "print(df2)"
   ]
  },
  {
   "cell_type": "markdown",
   "id": "06c951ec-2aba-449d-a08e-fea99228d17c",
   "metadata": {},
   "source": [
    "# Exercise 5: (Score : 1) Add a new column to the data frame created in question 1, called occupation.The values for this column should be Programmer, Manager, and Analyst, corresponding to the rows in the dataframe. "
   ]
  },
  {
   "cell_type": "code",
   "execution_count": 18,
   "id": "028660f3-e214-4518-bbdf-0bce07f2dc48",
   "metadata": {},
   "outputs": [
    {
     "name": "stdout",
     "output_type": "stream",
     "text": [
      "      Name  Age  Gender  Occupation\n",
      "0    Alice   25  Female  Programmer\n",
      "1      Bob   30    Male     Manager\n",
      "2  Charlie   22    Male     Analyst\n",
      "3    David   35    Male     Manager\n",
      "4     Ella   28  Female     Manager\n",
      "5    Frank   40    Male  Programmer\n",
      "6    Grace   23  Female     Analyst\n",
      "7   Hannah   27  Female  Programmer\n",
      "8      Ian   31    Male     Analyst\n",
      "9    Julia   29  Female  Programmer\n"
     ]
    }
   ],
   "source": [
    "df2['Occupation'] = [\"Programmer\", \"Manager\",\"Analyst\",\"Manager\",\"Manager\",\"Programmer\",\"Analyst\",\"Programmer\",\"Analyst\",\"Programmer\"]\n",
    "print(df2)"
   ]
  },
  {
   "cell_type": "markdown",
   "id": "fc315227-fc9c-4764-be1b-d089e407c15c",
   "metadata": {},
   "source": [
    "# Exercise 6: (Score : 1) Select the rows of the dataframe where the age is greater than or equal to 30. "
   ]
  },
  {
   "cell_type": "code",
   "execution_count": 20,
   "id": "d6d7e0d6-44fd-4167-a640-65fd57170667",
   "metadata": {},
   "outputs": [
    {
     "data": {
      "text/html": [
       "<div>\n",
       "<style scoped>\n",
       "    .dataframe tbody tr th:only-of-type {\n",
       "        vertical-align: middle;\n",
       "    }\n",
       "\n",
       "    .dataframe tbody tr th {\n",
       "        vertical-align: top;\n",
       "    }\n",
       "\n",
       "    .dataframe thead th {\n",
       "        text-align: right;\n",
       "    }\n",
       "</style>\n",
       "<table border=\"1\" class=\"dataframe\">\n",
       "  <thead>\n",
       "    <tr style=\"text-align: right;\">\n",
       "      <th></th>\n",
       "      <th>Name</th>\n",
       "      <th>Age</th>\n",
       "      <th>Gender</th>\n",
       "      <th>Occupation</th>\n",
       "    </tr>\n",
       "  </thead>\n",
       "  <tbody>\n",
       "    <tr>\n",
       "      <th>1</th>\n",
       "      <td>Bob</td>\n",
       "      <td>30</td>\n",
       "      <td>Male</td>\n",
       "      <td>Manager</td>\n",
       "    </tr>\n",
       "    <tr>\n",
       "      <th>3</th>\n",
       "      <td>David</td>\n",
       "      <td>35</td>\n",
       "      <td>Male</td>\n",
       "      <td>Manager</td>\n",
       "    </tr>\n",
       "    <tr>\n",
       "      <th>5</th>\n",
       "      <td>Frank</td>\n",
       "      <td>40</td>\n",
       "      <td>Male</td>\n",
       "      <td>Programmer</td>\n",
       "    </tr>\n",
       "    <tr>\n",
       "      <th>8</th>\n",
       "      <td>Ian</td>\n",
       "      <td>31</td>\n",
       "      <td>Male</td>\n",
       "      <td>Analyst</td>\n",
       "    </tr>\n",
       "  </tbody>\n",
       "</table>\n",
       "</div>"
      ],
      "text/plain": [
       "    Name  Age Gender  Occupation\n",
       "1    Bob   30   Male     Manager\n",
       "3  David   35   Male     Manager\n",
       "5  Frank   40   Male  Programmer\n",
       "8    Ian   31   Male     Analyst"
      ]
     },
     "execution_count": 20,
     "metadata": {},
     "output_type": "execute_result"
    }
   ],
   "source": [
    "df2.loc[df2[\"Age\"]>=30]"
   ]
  },
  {
   "cell_type": "markdown",
   "id": "4b0b106e-2031-44f0-a9ac-94de1415ed99",
   "metadata": {},
   "source": [
    "# Exercise 7: (Score : 2) Convert this dataframe to a csv file and read that csv file, finally display the contents."
   ]
  },
  {
   "cell_type": "code",
   "execution_count": 35,
   "id": "7251b45c-7504-46ea-88ac-32f08ed78754",
   "metadata": {},
   "outputs": [],
   "source": [
    "csv_file=\"NumpyPandasAss.csv\"\n",
    "df2.to_csv(csv_file,index=False)"
   ]
  },
  {
   "cell_type": "code",
   "execution_count": 41,
   "id": "9405246b-a92a-493b-9ab6-42127b0733fa",
   "metadata": {},
   "outputs": [
    {
     "name": "stdout",
     "output_type": "stream",
     "text": [
      "      Name  Age  Gender  Occupation\n",
      "0    Alice   25  Female  Programmer\n",
      "1      Bob   30    Male     Manager\n",
      "2  Charlie   22    Male     Analyst\n",
      "3    David   35    Male     Manager\n",
      "4     Ella   28  Female     Manager\n",
      "5    Frank   40    Male  Programmer\n",
      "6    Grace   23  Female     Analyst\n",
      "7   Hannah   27  Female  Programmer\n",
      "8      Ian   31    Male     Analyst\n",
      "9    Julia   29  Female  Programmer\n"
     ]
    }
   ],
   "source": [
    "df2_as_csv=pd.read_csv(\"NumpyPandasAss.csv\")\n",
    "print(df2_as_csv)"
   ]
  },
  {
   "cell_type": "code",
   "execution_count": null,
   "id": "ff2352c3-a9c7-4c6e-85fb-4e117db16bb8",
   "metadata": {},
   "outputs": [],
   "source": []
  }
 ],
 "metadata": {
  "kernelspec": {
   "display_name": "Python 3 (ipykernel)",
   "language": "python",
   "name": "python3"
  },
  "language_info": {
   "codemirror_mode": {
    "name": "ipython",
    "version": 3
   },
   "file_extension": ".py",
   "mimetype": "text/x-python",
   "name": "python",
   "nbconvert_exporter": "python",
   "pygments_lexer": "ipython3",
   "version": "3.12.7"
  }
 },
 "nbformat": 4,
 "nbformat_minor": 5
}
